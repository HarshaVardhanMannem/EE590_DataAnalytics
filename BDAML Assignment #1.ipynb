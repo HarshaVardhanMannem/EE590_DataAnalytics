{
 "cells": [
  {
   "cell_type": "code",
   "execution_count": 1,
   "id": "66495e3c",
   "metadata": {},
   "outputs": [],
   "source": [
    "import matplotlib.pyplot as plt\n",
    "import numpy as np"
   ]
  },
  {
   "cell_type": "markdown",
   "id": "1485042f",
   "metadata": {},
   "source": [
    "# Numpy"
   ]
  },
  {
   "cell_type": "code",
   "execution_count": 2,
   "id": "9578ba17",
   "metadata": {},
   "outputs": [
    {
     "name": "stdout",
     "output_type": "stream",
     "text": [
      "Shape of array is: (5, 5)\n",
      "[[0. 0. 0. 0. 0.]\n",
      " [0. 0. 0. 0. 0.]\n",
      " [0. 0. 0. 0. 0.]\n",
      " [0. 0. 0. 0. 0.]\n",
      " [0. 0. 0. 0. 0.]]\n"
     ]
    }
   ],
   "source": [
    "# 1. Create a NumPy array of shape (5, 5) filled with zeros.\n",
    "\n",
    "#Creating array of zeros of shape (5,5)\n",
    "arr=np.zeros((5,5))\n",
    "print(\"Shape of array is:\", arr.shape)\n",
    "print(arr)"
   ]
  },
  {
   "cell_type": "code",
   "execution_count": 3,
   "id": "5fb21d3e",
   "metadata": {},
   "outputs": [
    {
     "name": "stdout",
     "output_type": "stream",
     "text": [
      "Shape of array: (3, 4)\n",
      "[[8. 5. 2. 7.]\n",
      " [8. 0. 9. 1.]\n",
      " [2. 7. 6. 7.]]\n"
     ]
    }
   ],
   "source": [
    "# 2. Create a NumPy array of shape (3, 4) filled with random numbers.\n",
    "import random\n",
    "#Creating array of shape(3,4) with the random function in numpy\n",
    "rand_arr=np.floor(10*np.random.random((3,4)))\n",
    "print(\"Shape of array:\", rand_arr.shape)\n",
    "print(rand_arr)"
   ]
  },
  {
   "cell_type": "code",
   "execution_count": 4,
   "id": "0b02787d",
   "metadata": {},
   "outputs": [
    {
     "name": "stdout",
     "output_type": "stream",
     "text": [
      "Sum of all elements in above array is: 62.0\n"
     ]
    }
   ],
   "source": [
    "# 3. Find the sum of all elements in the previous NumPy array.\n",
    "print(\"Sum of all elements in above array is:\", np.sum(rand_arr))"
   ]
  },
  {
   "cell_type": "code",
   "execution_count": 5,
   "id": "d2099425",
   "metadata": {},
   "outputs": [
    {
     "name": "stdout",
     "output_type": "stream",
     "text": [
      "Mean value is:  5.166666666666667\n"
     ]
    }
   ],
   "source": [
    "# 4. Calculate the mean value of of the previous NumPy array\n",
    "print(\"Mean value is: \",rand_arr.mean())"
   ]
  },
  {
   "cell_type": "code",
   "execution_count": 6,
   "id": "6a017013",
   "metadata": {},
   "outputs": [
    {
     "name": "stdout",
     "output_type": "stream",
     "text": [
      "Maximum value of the above array is:  9.0\n"
     ]
    }
   ],
   "source": [
    "# 5. Find the maximum and minimum value of the previous NumPy array.\n",
    "print(\"Maximum value of the above array is: \", np.max(rand_arr))"
   ]
  },
  {
   "cell_type": "code",
   "execution_count": 7,
   "id": "39ddee53",
   "metadata": {},
   "outputs": [
    {
     "name": "stdout",
     "output_type": "stream",
     "text": [
      "Array shape after reshape  (2, 6)\n",
      "[[8. 5. 2. 7. 8. 0.]\n",
      " [9. 1. 2. 7. 6. 7.]]\n"
     ]
    }
   ],
   "source": [
    "# 6. reshape the array into a 2 by 6 array\n",
    "reshape_arr=rand_arr.reshape(2,6)\n",
    "print(\"Array shape after reshape \",reshape_arr.shape)\n",
    "print(reshape_arr)"
   ]
  },
  {
   "cell_type": "code",
   "execution_count": 8,
   "id": "aa796c04",
   "metadata": {},
   "outputs": [
    {
     "name": "stdout",
     "output_type": "stream",
     "text": [
      "Array :\n",
      "[[4. 0. 3.]\n",
      " [7. 8. 1.]\n",
      " [8. 8. 5.]\n",
      " [6. 2. 7.]]\n",
      "Shape of array is:  (4, 3)\n",
      "Sum along the each row is:  [ 7. 16. 21. 15.]\n",
      "Index of maximum element in rows: 2\n",
      "Maxium sum row in the above matrix is: [8. 8. 5.]\n"
     ]
    }
   ],
   "source": [
    "# 7. Write the code to perform the following tasks:\n",
    "\n",
    "# Import the NumPy library\n",
    "# Create a 2D NumPy array of shape (4, 3)\n",
    "# Calculate the sum along each row\n",
    "# Find the index of the row with the maximum sum\n",
    "# Extract that row from the 2D array\n",
    "# Print the row sums and the row with the maximum sum\n",
    "\n",
    "#Creating new array with random integers of shape (4,3)\n",
    "new_arr=np.floor(10*np.random.random((4,3)))\n",
    "\n",
    "#Printing the Array\n",
    "print(\"Array :\")\n",
    "print(new_arr)\n",
    "\n",
    "#Verifying the shape of array\n",
    "print(\"Shape of array is: \",new_arr.shape)\n",
    "\n",
    "#Calculating sum along each row and printing it\n",
    "row_sum=new_arr.sum(axis=1)\n",
    "print(\"Sum along the each row is: \",row_sum)\n",
    "\n",
    "#Index of the row with maximum sum and printing it\n",
    "maximum_sum_row_index=np.argmax(row_sum)\n",
    "print(\"Index of maximum element in rows:\",maximum_sum_row_index)\n",
    "\n",
    "#Extracting and printing the row with maximum sum\n",
    "maximum_sum_row=new_arr[maximum_sum_row_index,:]\n",
    "print(\"Maxium sum row in the above matrix is:\",maximum_sum_row)\n",
    "\n"
   ]
  },
  {
   "cell_type": "code",
   "execution_count": 9,
   "id": "c0584fc3",
   "metadata": {},
   "outputs": [
    {
     "name": "stdout",
     "output_type": "stream",
     "text": [
      "(3, 3) (3, 3)\n",
      "Result of array Addition is: \n",
      "[[-1  5 10]\n",
      " [-1 -1  6]\n",
      " [ 8 10  7]]\n",
      "Result of array Subtraction is: \n",
      "[[ 3 -1 -2]\n",
      " [ 7  9 -4]\n",
      " [ 2  2  1]]\n",
      "Result of array Multiplication is: \n",
      "[[ -2   6  24]\n",
      " [-12 -20   5]\n",
      " [ 15  24  12]]\n",
      "Result of array dot product is: \n",
      "[[  2   9  28]\n",
      " [-19  -7  41]\n",
      " [-22   1  72]]\n"
     ]
    }
   ],
   "source": [
    "# 8.\n",
    "# Write a Python function that takes two 2D NumPy arrays A and B of the same shape and performs the specified operations:\n",
    "# adding, multiplying, dot-product\n",
    "\n",
    "# Test your function with two 3x3 arrays of random integers\n",
    "\n",
    "#Function to perform operations on two arrays A and B where is C is the operation to be performed on the arrays\n",
    "\n",
    "def ArrayOperations(A,B,C):\n",
    "    if A.shape==B.shape:\n",
    "        if C=='Add':\n",
    "            result=Addition(A,B)\n",
    "        elif C=='multiply':\n",
    "            result=multiply(A,B)\n",
    "        elif C=='Subtract':\n",
    "            result=Subtract(A,B)\n",
    "        elif C=='Dot':\n",
    "            result=dot_product(A,B)\n",
    "        else:\n",
    "            print(\"Enter valid operation\")\n",
    "    else:\n",
    "        print(\"Array sizes doesn't match and operation can't be performed\")\n",
    "    return result\n",
    "\n",
    "#Function to add two arrays\n",
    "def Addition(A,B):\n",
    "    return A+B\n",
    "\n",
    "#Function to Multiply two arrays\n",
    "def multiply(A,B):\n",
    "    return A*B\n",
    "\n",
    "#Function to subtract two arrays\n",
    "def Subtract(A,B):\n",
    "    return A-B\n",
    "\n",
    "#Function to perform dot product of two arrays\n",
    "def dot_product(A,B):\n",
    "    return A.dot(B)\n",
    "\n",
    "\n",
    "#Declaring array of size (3,3) and performing array operations\n",
    "\n",
    "a = np.array([[1,2,4],[3,4,1],[5,6,4]])\n",
    "b = np.array([[-2,3,6],[-4,-5,5],[3,4,3]])\n",
    "\n",
    "#Checking the shapes of both the array before performing the operation\n",
    "print(a.shape,b.shape)\n",
    "\n",
    "#Performing Addition operation on arrays\n",
    "print(\"Result of array Addition is: \")\n",
    "print(ArrayOperations(a,b,'Add'))\n",
    "\n",
    "#Performing subtraction operation on arrays\n",
    "print(\"Result of array Subtraction is: \")\n",
    "print(ArrayOperations(a,b,'Subtract'))\n",
    "\n",
    "#Performing multiply operation on arrays\n",
    "print(\"Result of array Multiplication is: \")\n",
    "print(ArrayOperations(a,b,'multiply'))\n",
    "\n",
    "#Performing dot product operation on arrays\n",
    "print(\"Result of array dot product is: \")\n",
    "print(ArrayOperations(a,b,'Dot'))"
   ]
  },
  {
   "cell_type": "markdown",
   "id": "38e07eeb",
   "metadata": {},
   "source": [
    "# Matplotlib"
   ]
  },
  {
   "cell_type": "code",
   "execution_count": 10,
   "id": "021ea6d8",
   "metadata": {},
   "outputs": [
    {
     "data": {
      "image/png": "[encoded data removed]",
      "text/plain": [
       "<Figure size 432x288 with 1 Axes>"
      ]
     },
     "metadata": {
      "needs_background": "light"
     },
     "output_type": "display_data"
    }
   ],
   "source": [
    "# 9: Line Plot\n",
    "# Generate a line plot for the equation y = x ** 2,\n",
    "# where x ranges from -10 to 10\n",
    "# Create an array of x values from -10 to 10\n",
    "\n",
    "# Hint: \n",
    "# Create an array x of 400 points ranging from -10 to 10.\n",
    "# Compute the corresponding y values\n",
    "# Plot the curve using plt.plot(x, y).\n",
    "# Add a title, and labels for the x-axis and y-axis.\n",
    "# Add a grid for easier visualization.\n",
    "# Finally, display the plot using plt.show().\n",
    "\n",
    "#Creating a figure fig \n",
    "\n",
    "fig=plt.figure()\n",
    "\n",
    "#Created 400 points in between -10,10 and stored them in x \n",
    "x=np.linspace(-10,10,400)\n",
    "\n",
    "#Created square of every element in the x and stored the respective value in y \n",
    "y=np.array([i**2 for i in x])\n",
    "\n",
    "#Adding title for the plot\n",
    "plt.title('Line plot for y=x**2')\n",
    "\n",
    "#Adding labels for x an y\n",
    "plt.xlabel('X')\n",
    "plt.ylabel('y=x**2')\n",
    "\n",
    "#Plotted the x and y\n",
    "plt.plot(x,y)\n",
    "\n",
    "#Adding grid to the plot\n",
    "plt.grid()\n",
    "\n",
    "#To display the plot\n",
    "plt.show()"
   ]
  },
  {
   "cell_type": "code",
   "execution_count": 11,
   "id": "679f7e17",
   "metadata": {},
   "outputs": [
    {
     "data": {
      "image/png": "[encoded data removed]",
      "text/plain": [
       "<Figure size 432x288 with 1 Axes>"
      ]
     },
     "metadata": {
      "needs_background": "light"
     },
     "output_type": "display_data"
    }
   ],
   "source": [
    "# 10: Bar Chart\n",
    "# Generate a bar chart that represents the grades of 5 students, with the following data:\n",
    "students = ['Alice', 'Bob', 'Charlie', 'Dave', 'Eva']\n",
    "grades = [85, 90, 77, 92, 88]\n",
    "\n",
    "# Hint:\n",
    "# Create the bar chart using plt.bar().\n",
    "# Add a title and labels for the x-axis and y-axis using plt.title(), plt.xlabel(), and plt.ylabel().\n",
    "# Finally, display the plot using plt.show()\n",
    "\n",
    "#Creating bar graph of students and grades \n",
    "plt.bar(students,grades)\n",
    "\n",
    "#Adding title to bar graph\n",
    "plt.title('Grades of the Students')\n",
    "\n",
    "#Adding labels for data\n",
    "plt.xlabel(\"Student name's\")\n",
    "plt.ylabel('Scores')\n",
    "\n",
    "#Show the bar graph\n",
    "plt.show()"
   ]
  },
  {
   "cell_type": "code",
   "execution_count": 12,
   "id": "87cf9742",
   "metadata": {},
   "outputs": [
    {
     "data": {
      "image/png": "[encoded data removed]",
      "text/plain": [
       "<Figure size 432x288 with 1 Axes>"
      ]
     },
     "metadata": {
      "needs_background": "light"
     },
     "output_type": "display_data"
    }
   ],
   "source": [
    "# Q11: Scatter plot\n",
    "# Generate a scatter plot for the height and weight of 10 individuals. given by the following data:\n",
    "height = [160, 165, 170, 175, 180, 185, 190, 195, 200, 205]\n",
    "weight = [55, 60, 65, 70, 80, 85, 90, 95, 100, 105]\n",
    "# Create the scatter plot\n",
    "plt.scatter(height,weight,color='green')\n",
    "\n",
    "# Add title and labels\n",
    "plt.title(\"Scatter plot of height vs weight\")\n",
    "plt.xlabel('height')\n",
    "plt.ylabel('weight')\n",
    "\n",
    "# Annotate each point with the corresponding (height, weight)\n",
    "#Iterating throught the length of the list and adding points using annotate function\n",
    "for i in range(len(height)):\n",
    "    plt.annotate((height[i],weight[i]),xy=(height[i],weight[i]))\n",
    "\n",
    "    \n",
    "# Show the scatter plot\n",
    "plt.show()"
   ]
  },
  {
   "cell_type": "code",
   "execution_count": 13,
   "id": "833540ee",
   "metadata": {},
   "outputs": [
    {
     "data": {
      "image/png": "[encoded data removed]",
      "text/plain": [
       "<Figure size 432x288 with 4 Axes>"
      ]
     },
     "metadata": {
      "needs_background": "light"
     },
     "output_type": "display_data"
    }
   ],
   "source": [
    "# 12: Subplots\n",
    "# Generate a single figure containing four subplots as follows:\n",
    "# sin(x), cos(x), tan(x), 1.0/(1.0  + exp(-x)\n",
    "\n",
    "# Create an array of x values\n",
    "x = np.linspace(-3*np.pi, 3*np.pi, 50)\n",
    "\n",
    "# Calculate the corresponding y values for each function\n",
    "y1 = np.sin(x) \n",
    "y2 = np.cos(x)\n",
    "y3 = np.tan(x)\n",
    "y4 = 1.0 / (1.0 + np.exp(-x))\n",
    "\n",
    "# Create a figure with four subplots\n",
    "figure, sb = plt.subplots(2, 2)\n",
    "\n",
    "# Plot sin(x) in the first subplot\n",
    "sb[0, 0].plot(x, y1)\n",
    "sb[0, 0].set_title('sin(x)')\n",
    "\n",
    "# Plot cos(x) in the second subplot\n",
    "sb[0, 1].plot(x, y2)\n",
    "sb[0, 1].set_title('cos(x)')\n",
    "\n",
    "# Plot tan(x) in the third subplot\n",
    "sb[1, 0].plot(x, y3)\n",
    "sb[1, 0].set_title('tan(x)')\n",
    "\n",
    "# Plot 1.0/(1.0 + exp(-x)) in the fourth subplot\n",
    "sb[1, 1].plot(x, y4)\n",
    "sb[1, 1].set_title('1.0/(1.0 + exp(-x))')\n",
    "\n",
    "# To adjust the layout to prevent the overlap of titles\n",
    "plt.tight_layout()\n",
    "\n",
    "#Show the plot\n",
    "plt.show()\n"
   ]
  },
  {
   "cell_type": "code",
   "execution_count": 14,
   "id": "9e9d6978",
   "metadata": {},
   "outputs": [
    {
     "data": {
      "image/png": "[encoded data removed]",
      "text/plain": [
       "<Figure size 432x288 with 1 Axes>"
      ]
     },
     "metadata": {
      "needs_background": "light"
     },
     "output_type": "display_data"
    }
   ],
   "source": [
    "# 13: Histogram\n",
    "# Generate a histogram for the following dataset representing the scores of 50 students in an exam.\n",
    "scores = [50, 60, 65, 70, 75, 80, 85, 90, 95, 100,\n",
    "          55, 58, 61, 67, 72, 78, 82, 88, 92, 97,\n",
    "          52, 59, 63, 71, 76, 79, 84, 89, 93, 98,\n",
    "          54, 57, 62, 68, 73, 77, 81, 87, 91, 96,\n",
    "          51, 56, 64, 69, 74, 83, 86, 94, 99, 53]\n",
    "\n",
    "# To create a histogram\n",
    "plt.hist(scores, bins=12, edgecolor='green')\n",
    "\n",
    "# Setting labels and title\n",
    "plt.xlabel('Scores')\n",
    "plt.ylabel('Frequency')\n",
    "plt.title('Histogram of 50 students scores in an exam')\n",
    "\n",
    "# Show the histogram\n",
    "plt.show()\n"
   ]
  },
  {
   "cell_type": "code",
   "execution_count": 15,
   "id": "e8ca6039",
   "metadata": {},
   "outputs": [
    {
     "data": {
      "image/png": "[encoded data removed]",
      "text/plain": [
       "<Figure size 432x288 with 1 Axes>"
      ]
     },
     "metadata": {},
     "output_type": "display_data"
    }
   ],
   "source": [
    "# 14: Pie Chart\n",
    "# You are given data on the number of cars sold by a dealership in a month for four different brands: Toyota, Ford, Honda, and Tesla. The numbers are as follows:\n",
    "#\n",
    "# Toyota: 45 cars\n",
    "# Ford: 30 cars\n",
    "# Honda: 15 cars\n",
    "# Tesla: 10 cars\n",
    "# Create a pie chart using Matplotlib to visualize the share of monthly car sales for each brand. Make sure to include:\n",
    "\n",
    "# Labels for each brand\n",
    "# Percentages on the pie chart\n",
    "# A title\n",
    "# Different colors for each section\n",
    "\n",
    "x=car_brands=['Toyota','Ford','Honda','Tesla']\n",
    "y=car_sold=[45,30,15,10] \n",
    "colors=['Red','Blue','Green','Yellow']\n",
    "plt.pie(y,labels=x,colors=colors,autopct='%1.0f%%')\n",
    "plt.title('Different car brands sale in a month')\n",
    "plt.show()\n",
    "\n"
   ]
  },
  {
   "cell_type": "code",
   "execution_count": null,
   "id": "c8594b36",
   "metadata": {},
   "outputs": [],
   "source": []
  }
 ],
 "metadata": {
  "kernelspec": {
   "display_name": "Python 3",
   "language": "python",
   "name": "python3"
  },
  "language_info": {
   "codemirror_mode": {
    "name": "ipython",
    "version": 3
   },
   "file_extension": ".py",
   "mimetype": "text/x-python",
   "name": "python",
   "nbconvert_exporter": "python",
   "pygments_lexer": "ipython3",
   "version": "3.8.8"
  },
  "varInspector": {
   "cols": {
    "lenName": 16,
    "lenType": 16,
    "lenVar": 40
   },
   "kernels_config": {
    "python": {
     "delete_cmd_postfix": "",
     "delete_cmd_prefix": "del ",
     "library": "var_list.py",
     "varRefreshCmd": "print(var_dic_list())"
    },
    "r": {
     "delete_cmd_postfix": ") ",
     "delete_cmd_prefix": "rm(",
     "library": "var_list.r",
     "varRefreshCmd": "cat(var_dic_list()) "
    }
   },
   "types_to_exclude": [
    "module",
    "function",
    "builtin_function_or_method",
    "instance",
    "_Feature"
   ],
   "window_display": false
  }
 },
 "nbformat": 4,
 "nbformat_minor": 5
}
